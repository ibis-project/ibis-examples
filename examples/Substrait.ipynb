{
 "cells": [
  {
   "cell_type": "markdown",
   "metadata": {},
   "source": [
    "# Substrait\n",
    "\n",
    "[Substrait](https://substrait.io) is a cross-language specification for data compute operations. Ibis can produce Substrait plans using the `ibis-substrait` python package. \n",
    "\n",
    "### Why Substrait?\n",
    "\n",
    "The current state of the world requires tools like Ibis to build connectors for each unique data system. This is a many-to-many relationship that grows exponentially. Substrait removes the need for connectors by introducing an Intermediate Representation (IR). Now, we can have a many-to-one relationship from frontend -> IR and a one-to-many relationship from IR -> backend. \n",
    "\n",
    "### But, how is this useful to me?\n",
    "\n",
    "Interoperability now _and in the future_. The same Substrait Plan can run anywhere that has built-in support for the Substrait specification. No need to wait for Ibis to implement the shiny new connector for your data system of choice."
   ]
  },
  {
   "cell_type": "markdown",
   "metadata": {},
   "source": [
    "## Example\n",
    "\n",
    "Let's see Ibis Substrait in action."
   ]
  },
  {
   "cell_type": "markdown",
   "metadata": {},
   "source": [
    "### Setup\n",
    "\n",
    "Let's build a toy example of a database server. Our example uses a local DuckDB database, but in practice we can imagine talking to a database server over the network."
   ]
  },
  {
   "cell_type": "code",
   "execution_count": null,
   "metadata": {},
   "outputs": [],
   "source": [
    "import duckdb\n",
    "import os\n",
    "from urllib.request import urlretrieve\n",
    "\n",
    "\n",
    "class DatabaseServer:\n",
    "    DB_NAME = \"palmer_penguins.ddb\"\n",
    "    DB_URL = \"https://storage.googleapis.com/ibis-tutorial-data/palmer_penguins.ddb\"\n",
    "\n",
    "    def __init__(self):\n",
    "        if not os.path.exists(self.DB_NAME):\n",
    "            urlretrieve(self.DB_URL, self.DB_NAME)\n",
    "        self.db = duckdb.connect(self.DB_NAME)\n",
    "        self.db.install_extension(\"substrait\")\n",
    "        self.db.load_extension(\"substrait\")\n",
    "\n",
    "    def execute(self, substrait):\n",
    "        result = self.db.from_substrait(substrait)\n",
    "        return result.fetchall()\n",
    "\n",
    "\n",
    "db_server = DatabaseServer()"
   ]
  },
  {
   "cell_type": "markdown",
   "metadata": {},
   "source": [
    "### Ibis Table\n",
    "\n",
    "We need an Ibis Table to query against. Let's define one that matches the table in our mock DB server."
   ]
  },
  {
   "cell_type": "code",
   "execution_count": null,
   "metadata": {},
   "outputs": [],
   "source": [
    "import ibis\n",
    "from ibis.expr.datatypes.core import Float64, Int64, String\n",
    "\n",
    "table = ibis.table(\n",
    "    name=\"penguins\",\n",
    "    schema=[\n",
    "        (\"species\", String()),\n",
    "        (\"island\", String()),\n",
    "        (\"bill_length_mm\", Float64()),\n",
    "        (\"bill_depth_mm\", Float64()),\n",
    "        (\"flipper_length_mm\", Int64()),\n",
    "        (\"body_mass_g\", Int64()),\n",
    "        (\"sex\", String()),\n",
    "        (\"year\", Int64),\n",
    "    ],\n",
    ")\n",
    "\n",
    "print(table)"
   ]
  },
  {
   "cell_type": "markdown",
   "metadata": {},
   "source": [
    "### Substrait Compiler\n",
    "\n",
    "The `ibis-substrait` package provides a `SubstraitCompiler` that can both compile and decompile Substrait Plans.\n",
    "\n",
    "Let's see it in action:"
   ]
  },
  {
   "cell_type": "code",
   "execution_count": null,
   "metadata": {},
   "outputs": [],
   "source": [
    "from ibis import _\n",
    "from ibis_substrait.compiler.core import SubstraitCompiler\n",
    "\n",
    "compiler = SubstraitCompiler()\n",
    "\n",
    "query = table.select(_.species).group_by(_.species).agg(count=_.species.count())\n",
    "\n",
    "substrait_plan = compiler.compile(query)\n",
    "\n",
    "print(substrait_plan)"
   ]
  },
  {
   "cell_type": "markdown",
   "metadata": {},
   "source": [
    "### Substrait Execution\n",
    "\n",
    "Let's serialize the Substrait Plan to bytes that can be sent over the network and pass them to our mock DB server.\n",
    "\n",
    "The query counts the number of penguins per species."
   ]
  },
  {
   "cell_type": "code",
   "execution_count": null,
   "metadata": {},
   "outputs": [],
   "source": [
    "plan_bytes = substrait_plan.SerializeToString()\n",
    "\n",
    "db_server.execute(substrait=plan_bytes)"
   ]
  },
  {
   "cell_type": "markdown",
   "metadata": {},
   "source": [
    "Success! We've created an Ibis Table expression, serialized it to the Substrait IR, sent it to our DB server, and received the resulting rows back.\n",
    "\n",
    "We can iterate on our data analysis. Let's see how many of each species lives on each island."
   ]
  },
  {
   "cell_type": "code",
   "execution_count": null,
   "metadata": {},
   "outputs": [],
   "source": [
    "query = (\n",
    "    table.select(_.island, _.species)\n",
    "    .group_by([_.island, _.species])\n",
    "    .agg(num=_.species.count())\n",
    "    .order_by([ibis.asc(_.island), ibis.asc(_.species)])\n",
    ")\n",
    "\n",
    "plan_bytes = compiler.compile(query).SerializeToString()\n",
    "\n",
    "db_server.execute(substrait=plan_bytes)"
   ]
  },
  {
   "cell_type": "markdown",
   "metadata": {},
   "source": [
    "Interesting! And what is the average body mass in grams for each row result?"
   ]
  },
  {
   "cell_type": "code",
   "execution_count": null,
   "metadata": {},
   "outputs": [],
   "source": [
    "query = (\n",
    "    table.select(_.island, _.species, _.body_mass_g)\n",
    "    .group_by([_.island, _.species])\n",
    "    .agg(num=_.species.count(), avg_weight=_.body_mass_g.mean())\n",
    "    .order_by([ibis.asc(_.island), ibis.asc(_.species)])\n",
    ")\n",
    "\n",
    "plan_bytes = compiler.compile(query).SerializeToString()\n",
    "\n",
    "db_server.execute(substrait=plan_bytes)"
   ]
  },
  {
   "cell_type": "markdown",
   "metadata": {},
   "source": [
    "## Conclusion\n",
    "\n",
    "We saw how we can translate Ibis expressions into Substrait Plans that can theoretically run anywhere. Backend support for Substrait is growing. Checkout some compatible projects such as [DuckDB](https://duckdb.org/docs/extensions/substrait), [Apache DataFusion](https://arrow.apache.org/datafusion), and Apache Arrow's [Acero](https://arrow.apache.org/docs/cpp/streaming_execution.html)!"
   ]
  }
 ],
 "metadata": {
  "kernelspec": {
   "display_name": "Python 3 (ipykernel)",
   "language": "python",
   "name": "python3"
  },
  "language_info": {
   "codemirror_mode": {
    "name": "ipython",
    "version": 3
   },
   "file_extension": ".py",
   "mimetype": "text/x-python",
   "name": "python",
   "nbconvert_exporter": "python",
   "pygments_lexer": "ipython3",
   "version": "3.10.10"
  }
 },
 "nbformat": 4,
 "nbformat_minor": 2
}
