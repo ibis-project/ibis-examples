{
 "cells": [
  {
   "attachments": {},
   "cell_type": "markdown",
   "metadata": {},
   "source": [
    "# Analyzing IMDB data with Ibis and DuckDB\n"
   ]
  },
  {
   "attachments": {},
   "cell_type": "markdown",
   "metadata": {},
   "source": [
    "Using the Ibis examples module and the DuckDB backend to find some movies to watch.\n",
    "\n",
    "Adapted from [Phillip in the Cloud's livestream using the same data](https://www.youtube.com/watch?v=J7sEn9VklKY)."
   ]
  },
  {
   "attachments": {},
   "cell_type": "markdown",
   "metadata": {},
   "source": [
    "## Imports\n",
    "\n",
    "For this example, we'll just use Ibis."
   ]
  },
  {
   "cell_type": "code",
   "execution_count": null,
   "metadata": {},
   "outputs": [],
   "source": [
    "import ibis\n",
    "from ibis import _\n",
    "\n",
    "import ibis.examples as ex\n",
    "import ibis.expr.types as dt"
   ]
  },
  {
   "attachments": {},
   "cell_type": "markdown",
   "metadata": {},
   "source": [
    "## Configure Ibis\n",
    "\n",
    "We'll use the default backend and enable interactive output."
   ]
  },
  {
   "cell_type": "code",
   "execution_count": null,
   "metadata": {},
   "outputs": [],
   "source": [
    "ibis.options.interactive = True"
   ]
  },
  {
   "attachments": {},
   "cell_type": "markdown",
   "metadata": {},
   "source": [
    "## Fetch the example data\n",
    "\n",
    "We can use the `ibis.examples` module to fetch the IMDB data. Ibis will automatically cache the data so subsequent runs will be faster."
   ]
  },
  {
   "cell_type": "code",
   "execution_count": null,
   "metadata": {},
   "outputs": [],
   "source": [
    "name_basics = ex.imdb_name_basics.fetch()"
   ]
  },
  {
   "cell_type": "code",
   "execution_count": null,
   "metadata": {},
   "outputs": [],
   "source": [
    "name_basics"
   ]
  },
  {
   "attachments": {},
   "cell_type": "markdown",
   "metadata": {},
   "source": [
    "To ensure column names are Pythonic, we can relabel as `snake_case`."
   ]
  },
  {
   "cell_type": "code",
   "execution_count": null,
   "metadata": {},
   "outputs": [],
   "source": [
    "name_basics.relabel(\"snake_case\")"
   ]
  },
  {
   "attachments": {},
   "cell_type": "markdown",
   "metadata": {},
   "source": [
    "Let's grab all of the relevant IMDB tables and relabel columns."
   ]
  },
  {
   "cell_type": "code",
   "execution_count": null,
   "metadata": {},
   "outputs": [],
   "source": [
    "name_basics = ex.imdb_name_basics.fetch().relabel(\"snake_case\")\n",
    "title_akas = ex.imdb_title_akas.fetch().relabel(\"snake_case\")\n",
    "title_basics = ex.imdb_title_basics.fetch().relabel(\"snake_case\")\n",
    "title_crew = ex.imdb_title_crew.fetch().relabel(\"snake_case\")\n",
    "title_episode = ex.imdb_title_episode.fetch().relabel(\"snake_case\")\n",
    "title_principals = ex.imdb_title_principals.fetch().relabel(\"snake_case\")\n",
    "title_ratings = ex.imdb_title_ratings.fetch().relabel(\"snake_case\")"
   ]
  },
  {
   "attachments": {},
   "cell_type": "markdown",
   "metadata": {},
   "source": [
    "## Preview the data\n",
    "\n",
    "We'll print out the first few rows of each table to get an idea of what is contained in each."
   ]
  },
  {
   "cell_type": "code",
   "execution_count": null,
   "metadata": {},
   "outputs": [],
   "source": [
    "PREVIEW_SIZE = 3"
   ]
  },
  {
   "cell_type": "code",
   "execution_count": null,
   "metadata": {},
   "outputs": [],
   "source": [
    "name_basics.head(PREVIEW_SIZE)"
   ]
  },
  {
   "cell_type": "code",
   "execution_count": null,
   "metadata": {},
   "outputs": [],
   "source": [
    "title_akas.head(PREVIEW_SIZE)"
   ]
  },
  {
   "cell_type": "code",
   "execution_count": null,
   "metadata": {},
   "outputs": [],
   "source": [
    "title_basics.head(PREVIEW_SIZE)"
   ]
  },
  {
   "cell_type": "code",
   "execution_count": null,
   "metadata": {},
   "outputs": [],
   "source": [
    "title_crew.head(PREVIEW_SIZE)"
   ]
  },
  {
   "cell_type": "code",
   "execution_count": null,
   "metadata": {},
   "outputs": [],
   "source": [
    "title_episode.head(PREVIEW_SIZE)"
   ]
  },
  {
   "cell_type": "code",
   "execution_count": null,
   "metadata": {},
   "outputs": [],
   "source": [
    "title_principals.head(PREVIEW_SIZE)"
   ]
  },
  {
   "cell_type": "code",
   "execution_count": null,
   "metadata": {},
   "outputs": [],
   "source": [
    "title_ratings.head(PREVIEW_SIZE)"
   ]
  },
  {
   "attachments": {},
   "cell_type": "markdown",
   "metadata": {},
   "source": [
    "## Basic data exploration\n",
    "\n",
    "Let's check how many records are in each table. It's just Python, so we can construct a dictionary and iterate through it in a for loop.\n"
   ]
  },
  {
   "cell_type": "code",
   "execution_count": null,
   "metadata": {},
   "outputs": [],
   "source": [
    "tables = {\n",
    "    \"name_basics\": name_basics,\n",
    "    \"title_akas\": title_akas,\n",
    "    \"title_basics\": title_basics,\n",
    "    \"title_crew\": title_crew,\n",
    "    \"title_episode\": title_episode,\n",
    "    \"title_principals\": title_principals,\n",
    "    \"title_ratings\": title_ratings,\n",
    "}\n",
    "max_name_len = max(map(len, tables.keys())) + 1"
   ]
  },
  {
   "cell_type": "code",
   "execution_count": null,
   "metadata": {},
   "outputs": [],
   "source": [
    "print(\"Length of tables:\")\n",
    "for t in tables:\n",
    "    print(f\"\\t{t.ljust(max_name_len)}: {tables[t].count().to_pandas():,}\")"
   ]
  },
  {
   "attachments": {},
   "cell_type": "markdown",
   "metadata": {},
   "source": [
    "## Clean data\n",
    "\n",
    "Looking at the data, the `nconst` and `tconst` columns seem to be unique identifiers. Let's confirm and adjust them accordingly."
   ]
  },
  {
   "cell_type": "code",
   "execution_count": null,
   "metadata": {},
   "outputs": [],
   "source": [
    "name_basics.head(PREVIEW_SIZE)"
   ]
  },
  {
   "attachments": {},
   "cell_type": "markdown",
   "metadata": {},
   "source": [
    "Check the number of unique `nconst` values."
   ]
  },
  {
   "cell_type": "code",
   "execution_count": null,
   "metadata": {},
   "outputs": [],
   "source": [
    "name_basics.nconst.nunique()"
   ]
  },
  {
   "attachments": {},
   "cell_type": "markdown",
   "metadata": {},
   "source": [
    "Confirm it's equal to the number of rows."
   ]
  },
  {
   "cell_type": "code",
   "execution_count": null,
   "metadata": {},
   "outputs": [],
   "source": [
    "name_basics.nconst.nunique() == name_basics.count()"
   ]
  },
  {
   "attachments": {},
   "cell_type": "markdown",
   "metadata": {},
   "source": [
    "Mutate the table to convert `nconst` to an integer."
   ]
  },
  {
   "cell_type": "code",
   "execution_count": null,
   "metadata": {},
   "outputs": [],
   "source": [
    "t = name_basics.mutate(nconst=_.nconst.replace(\"nm\", \"\").cast(\"int\"))\n",
    "t.head(PREVIEW_SIZE)"
   ]
  },
  {
   "attachments": {},
   "cell_type": "markdown",
   "metadata": {},
   "source": [
    "Let's also turn `primary_profession` into an array of strings instead of a single comma-separated string."
   ]
  },
  {
   "cell_type": "code",
   "execution_count": null,
   "metadata": {},
   "outputs": [],
   "source": [
    "t = t.mutate(primary_profession=_.primary_profession.split(\",\"))\n",
    "t"
   ]
  },
  {
   "attachments": {},
   "cell_type": "markdown",
   "metadata": {},
   "source": [
    "And, combining the two concepts, convert `known_for_titles` into an array of integers corresponding to `tconst` identifiers."
   ]
  },
  {
   "cell_type": "code",
   "execution_count": null,
   "metadata": {},
   "outputs": [],
   "source": [
    "t = t.mutate(\n",
    "    known_for_titles=_.known_for_titles.split(\",\").map(\n",
    "        lambda tconst: tconst.replace(\"tt\", \"\").cast(\"int\")\n",
    "    )\n",
    ")\n",
    "t"
   ]
  },
  {
   "attachments": {},
   "cell_type": "markdown",
   "metadata": {},
   "source": [
    "## DRY-ing up the code\n",
    "\n",
    "We can define functions to convert `nconst` and `tconst` to integers."
   ]
  },
  {
   "cell_type": "code",
   "execution_count": null,
   "metadata": {},
   "outputs": [],
   "source": [
    "def nconst_to_int(nconst: dt.StringColumn) -> dt.IntegerColumn:\n",
    "    return nconst.replace(\"nm\", \"\").cast(\"int\")\n",
    "\n",
    "\n",
    "def tconst_to_int(tconst: dt.StringColumn) -> dt.IntegerColumn:\n",
    "    return tconst.replace(\"tt\", \"\").cast(\"int\")"
   ]
  },
  {
   "attachments": {},
   "cell_type": "markdown",
   "metadata": {},
   "source": [
    "Then combine the previous data cleansing in a single mutate call."
   ]
  },
  {
   "cell_type": "code",
   "execution_count": null,
   "metadata": {},
   "outputs": [],
   "source": [
    "name_basics = name_basics.mutate(\n",
    "    nconst=nconst_to_int(_.nconst),\n",
    "    primary_profession=_.primary_profession.split(\",\"),\n",
    "    known_for_titles=_.known_for_titles.split(\",\").map(tconst_to_int),\n",
    ")\n",
    "name_basics"
   ]
  },
  {
   "attachments": {},
   "cell_type": "markdown",
   "metadata": {},
   "source": [
    "We can use `ibis.show_sql` to see all the SQL this generates."
   ]
  },
  {
   "cell_type": "code",
   "execution_count": null,
   "metadata": {},
   "outputs": [],
   "source": [
    "ibis.show_sql(name_basics)"
   ]
  },
  {
   "attachments": {},
   "cell_type": "markdown",
   "metadata": {},
   "source": [
    "Clean the rest of the tables. We'll convert `nconst` and `tconst` columns consistently to allow for easy joining."
   ]
  },
  {
   "cell_type": "code",
   "execution_count": null,
   "metadata": {},
   "outputs": [],
   "source": [
    "title_akas = title_akas.mutate(title_id=tconst_to_int(_.title_id)).relabel(\n",
    "    {\"title_id\": \"tconst\"}\n",
    ")\n",
    "title_basics = title_basics.mutate(tconst=tconst_to_int(_.tconst))\n",
    "title_crew = title_crew.mutate(\n",
    "    tconst=tconst_to_int(_.tconst),\n",
    "    directors=_.directors.split(\",\").map(nconst_to_int),\n",
    "    writers=_.writers.split(\",\").map(nconst_to_int),\n",
    ")\n",
    "title_episode = title_episode.mutate(\n",
    "    tconst=tconst_to_int(_.tconst), parent_tconst=tconst_to_int(_.parent_tconst)\n",
    ")\n",
    "title_principals = title_principals.mutate(\n",
    "    tconst=tconst_to_int(_.tconst), nconst=nconst_to_int(_.nconst)\n",
    ")\n",
    "title_ratings = title_ratings.mutate(tconst=tconst_to_int(_.tconst))"
   ]
  },
  {
   "attachments": {},
   "cell_type": "markdown",
   "metadata": {},
   "source": [
    "## Finding good (and bad) movies to watch\n",
    "\n",
    "Join the IMDB rankings with information about the movies."
   ]
  },
  {
   "cell_type": "code",
   "execution_count": null,
   "metadata": {},
   "outputs": [],
   "source": [
    "joined = title_basics.join(title_ratings, \"tconst\")\n",
    "joined"
   ]
  },
  {
   "cell_type": "code",
   "execution_count": null,
   "metadata": {},
   "outputs": [],
   "source": [
    "joined.title_type.value_counts().order_by(_.title_type_count.desc())"
   ]
  },
  {
   "attachments": {},
   "cell_type": "markdown",
   "metadata": {},
   "source": [
    "Filter down to movies."
   ]
  },
  {
   "cell_type": "code",
   "execution_count": null,
   "metadata": {},
   "outputs": [],
   "source": [
    "joined = joined.filter(_.title_type == \"movie\")\n",
    "joined"
   ]
  },
  {
   "attachments": {},
   "cell_type": "markdown",
   "metadata": {},
   "source": [
    "Reorder the columns and drop some."
   ]
  },
  {
   "cell_type": "code",
   "execution_count": null,
   "metadata": {},
   "outputs": [],
   "source": [
    "joined = joined.select(\n",
    "    \"tconst\",\n",
    "    \"primary_title\",\n",
    "    \"average_rating\",\n",
    "    \"num_votes\",\n",
    "    \"genres\",\n",
    "    \"runtime_minutes\",\n",
    ")\n",
    "joined"
   ]
  },
  {
   "attachments": {},
   "cell_type": "markdown",
   "metadata": {},
   "source": [
    "Sort by the average rating."
   ]
  },
  {
   "cell_type": "code",
   "execution_count": null,
   "metadata": {},
   "outputs": [],
   "source": [
    "joined = joined.order_by([_.average_rating.desc(), _.num_votes.desc()])\n",
    "joined"
   ]
  },
  {
   "attachments": {},
   "cell_type": "markdown",
   "metadata": {},
   "source": [
    "A lot of 10/10 movies I haven't heard of...let's filter to movies with at least `N` votes."
   ]
  },
  {
   "cell_type": "code",
   "execution_count": null,
   "metadata": {},
   "outputs": [],
   "source": [
    "N = 50000\n",
    "joined = joined.filter(_.num_votes > N)\n",
    "joined"
   ]
  },
  {
   "attachments": {},
   "cell_type": "markdown",
   "metadata": {},
   "source": [
    "What if you're in the mood for a bad movie?"
   ]
  },
  {
   "cell_type": "code",
   "execution_count": null,
   "metadata": {},
   "outputs": [],
   "source": [
    "joined = joined.order_by([_.average_rating.asc(), _.num_votes.desc()])\n",
    "joined"
   ]
  },
  {
   "attachments": {},
   "cell_type": "markdown",
   "metadata": {},
   "source": [
    "And specifically a bad comedy?"
   ]
  },
  {
   "cell_type": "code",
   "execution_count": null,
   "metadata": {},
   "outputs": [],
   "source": [
    "joined = joined.filter(_.genres.contains(\"Comedy\"))\n",
    "joined"
   ]
  },
  {
   "attachments": {},
   "cell_type": "markdown",
   "metadata": {},
   "source": [
    "Perfect!"
   ]
  },
  {
   "attachments": {},
   "cell_type": "markdown",
   "metadata": {},
   "source": [
    "## Next Steps"
   ]
  },
  {
   "attachments": {},
   "cell_type": "markdown",
   "metadata": {},
   "source": [
    "We only used two of the IMDB tables. What else can we do with the rest of the data? Play around and let us know!"
   ]
  }
 ],
 "metadata": {
  "interpreter": {
   "hash": "db67a4c5f346815e3207df1348e9e718605305208b0cc89f618da4cb81ede2ba"
  },
  "kernelspec": {
   "display_name": "Python 3 (ipykernel)",
   "language": "python",
   "name": "python3"
  },
  "language_info": {
   "codemirror_mode": {
    "name": "ipython",
    "version": 3
   },
   "file_extension": ".py",
   "mimetype": "text/x-python",
   "name": "python",
   "nbconvert_exporter": "python",
   "pygments_lexer": "ipython3",
   "version": "3.11.3"
  }
 },
 "nbformat": 4,
 "nbformat_minor": 2
}
