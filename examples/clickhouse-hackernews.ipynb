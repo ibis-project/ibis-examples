{
 "cells": [
  {
   "cell_type": "markdown",
   "metadata": {},
   "source": [
    "# Using Ibis with ClickHouse"
   ]
  },
  {
   "cell_type": "markdown",
   "metadata": {},
   "source": [
    "[Ibis](https://ibis-project.com) supports reading and querying data using [ClickHouse](https://clickhouse.com/) as a backend.\n",
    "\n",
    "In this example we'll demonstrate connecting Ibis to a ClickHouse server, and using it to execute a few queries."
   ]
  },
  {
   "cell_type": "code",
   "execution_count": null,
   "metadata": {},
   "outputs": [],
   "source": [
    "import ibis\n",
    "from ibis import _\n",
    "\n",
    "ibis.options.interactive = True"
   ]
  },
  {
   "cell_type": "markdown",
   "metadata": {},
   "source": [
    "## Creating a Connection\n",
    "\n",
    "First we need to connect Ibis to a running ClickHouse server.\n",
    "\n",
    "In this example we'll run queries against the publically available [ClickHouse playground](https://clickhouse.com/docs/en/getting-started/playground) server. To run against your own ClickHouse server you'd only need to change the connection details."
   ]
  },
  {
   "cell_type": "code",
   "execution_count": null,
   "metadata": {},
   "outputs": [],
   "source": [
    "con = ibis.connect(\"clickhouse://play@play.clickhouse.com:443\")"
   ]
  },
  {
   "cell_type": "markdown",
   "metadata": {},
   "source": [
    "## Listing available tables\n",
    "\n",
    "The ClickHouse playground server has a number of interesting datasets available. To see them, we can examine the tables via the `.tables` attribue. This shows a list of all tables available:"
   ]
  },
  {
   "cell_type": "code",
   "execution_count": null,
   "metadata": {},
   "outputs": [],
   "source": [
    "con.tables"
   ]
  },
  {
   "cell_type": "markdown",
   "metadata": {},
   "source": [
    "## Inspecting a Table\n",
    "\n",
    "Lets take a look at the `hackernews` table. This table contains all posts and comments on [Hacker News](https://news.ycombinator.com/).\n",
    "\n",
    "We can access the table by attribute as `con.tables.hackernews`."
   ]
  },
  {
   "cell_type": "code",
   "execution_count": null,
   "metadata": {},
   "outputs": [],
   "source": [
    "t = con.tables.hackernews"
   ]
  },
  {
   "cell_type": "markdown",
   "metadata": {},
   "source": [
    "We can then take a peak at the first few rows using the `.head()` method."
   ]
  },
  {
   "cell_type": "code",
   "execution_count": null,
   "metadata": {},
   "outputs": [],
   "source": [
    "t.head()"
   ]
  },
  {
   "cell_type": "markdown",
   "metadata": {},
   "source": [
    "## Finding the highest scoring posts\n",
    "\n",
    "Here we find the top 5 posts by score.\n",
    "\n",
    "Posts have a title, so we:\n",
    "\n",
    "- `filter` out rows that lack a title\n",
    "- `select` only the columns we're interested in\n",
    "- `order` them by score, descending\n",
    "- `limit` to the top 5 rows"
   ]
  },
  {
   "cell_type": "code",
   "execution_count": null,
   "metadata": {},
   "outputs": [],
   "source": [
    "top_posts_by_score = (\n",
    "    t.filter(_.title != \"\")\n",
    "    .select(\"title\", \"score\")\n",
    "    .order_by(ibis.desc(\"score\"))\n",
    "    .limit(5)\n",
    ")\n",
    "\n",
    "top_posts_by_score"
   ]
  },
  {
   "cell_type": "markdown",
   "metadata": {},
   "source": [
    "## Finding the most prolific commenters\n",
    "\n",
    "Here we find the top 5 commenters by number of comments made.\n",
    "\n",
    "To do this we:\n",
    "\n",
    "- `filter` out rows with no author\n",
    "- `group_by` author\n",
    "- `count` all the rows in each group\n",
    "- `order_by` the counts, descending\n",
    "- `limit` to the top 5 rows"
   ]
  },
  {
   "cell_type": "code",
   "execution_count": null,
   "metadata": {},
   "outputs": [],
   "source": [
    "top_commenters = (\n",
    "    t.filter(_.by != \"\")\n",
    "    .group_by(\"by\")\n",
    "    .agg(count=_.count())\n",
    "    .order_by(ibis.desc(\"count\"))\n",
    "    .limit(5)\n",
    ")\n",
    "\n",
    "top_commenters"
   ]
  },
  {
   "cell_type": "markdown",
   "metadata": {},
   "source": [
    "This query could also be expressed using the `.topk` method, which is a shorthand for the above:"
   ]
  },
  {
   "cell_type": "code",
   "execution_count": null,
   "metadata": {},
   "outputs": [],
   "source": [
    "# This is a shorthand for the above\n",
    "top_commenters = t.filter(_.by != \"\").by.topk(5)\n",
    "\n",
    "top_commenters"
   ]
  },
  {
   "cell_type": "markdown",
   "metadata": {},
   "source": [
    "## Finding top commenters by score"
   ]
  },
  {
   "cell_type": "markdown",
   "metadata": {},
   "source": [
    "Here we find the top 5 commenters with the highest cumulative scores. In this case the `.topk` shorthand won't work and we'll need to write out the full `group_by` -> `agg` -> `order_by` -> `limit` pipeline."
   ]
  },
  {
   "cell_type": "code",
   "execution_count": null,
   "metadata": {},
   "outputs": [],
   "source": [
    "top_commenters_by_score = (\n",
    "    t.filter(_.by != \"\")\n",
    "    .group_by(\"by\")\n",
    "    .agg(total_score=_.score.sum())\n",
    "    .order_by(ibis.desc(\"total_score\"))\n",
    "    .limit(5)\n",
    ")\n",
    "\n",
    "top_commenters_by_score"
   ]
  },
  {
   "cell_type": "markdown",
   "metadata": {},
   "source": [
    "## Next Steps\n",
    "\n",
    "There are lots of other interesting queries one might ask of this dataset. A few examples:\n",
    "\n",
    "- What posts had the most comments?\n",
    "- How do post scores fluctuate over time?\n",
    "- What day of the week has the highest average post score? What day has the lowest?\n",
    "\n",
    "To learn more about how to use Ibis with Clickhouse, see [the documentation](https://ibis-project.org/backends/ClickHouse/)."
   ]
  }
 ],
 "metadata": {
  "interpreter": {
   "hash": "db67a4c5f346815e3207df1348e9e718605305208b0cc89f618da4cb81ede2ba"
  },
  "kernelspec": {
   "display_name": "Python 3 (ipykernel)",
   "language": "python",
   "name": "python3"
  },
  "language_info": {
   "codemirror_mode": {
    "name": "ipython",
    "version": 3
   },
   "file_extension": ".py",
   "mimetype": "text/x-python",
   "name": "python",
   "nbconvert_exporter": "python",
   "pygments_lexer": "ipython3",
   "version": "3.10.12"
  }
 },
 "nbformat": 4,
 "nbformat_minor": 2
}
